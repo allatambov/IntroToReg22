{
 "cells": [
  {
   "cell_type": "markdown",
   "metadata": {},
   "source": [
    "### Загрузка библиотек и данных"
   ]
  },
  {
   "cell_type": "code",
   "execution_count": 1,
   "metadata": {},
   "outputs": [],
   "source": [
    "import pandas as pd\n",
    "import statsmodels.formula.api as smf"
   ]
  },
  {
   "cell_type": "code",
   "execution_count": 2,
   "metadata": {},
   "outputs": [],
   "source": [
    "df = pd.read_csv(\"HR.csv\")"
   ]
  },
  {
   "cell_type": "markdown",
   "metadata": {},
   "source": [
    "### Логистическая регрессия и предельные эффекты"
   ]
  },
  {
   "cell_type": "markdown",
   "metadata": {},
   "source": [
    "Построим модель, которая предсказывает вероятность того, что сотрудник уволится (`left`), на основе степени удовлетворенности работой (`satisfaction_level`) и наличия повышения за последние 5 лет (`promotion_last_5years`):"
   ]
  },
  {
   "cell_type": "code",
   "execution_count": 3,
   "metadata": {},
   "outputs": [
    {
     "name": "stdout",
     "output_type": "stream",
     "text": [
      "Optimization terminated successfully.\n",
      "         Current function value: 0.471291\n",
      "         Iterations 7\n",
      "                           Logit Regression Results                           \n",
      "==============================================================================\n",
      "Dep. Variable:                   left   No. Observations:                14999\n",
      "Model:                          Logit   Df Residuals:                    14996\n",
      "Method:                           MLE   Df Model:                            2\n",
      "Date:                Tue, 18 Oct 2022   Pseudo R-squ.:                  0.1413\n",
      "Time:                        18:28:53   Log-Likelihood:                -7068.9\n",
      "converged:                       True   LL-Null:                       -8232.3\n",
      "Covariance Type:            nonrobust   LLR p-value:                     0.000\n",
      "=========================================================================================\n",
      "                            coef    std err          z      P>|z|      [0.025      0.975]\n",
      "-----------------------------------------------------------------------------------------\n",
      "Intercept                 0.9902      0.050     20.001      0.000       0.893       1.087\n",
      "satisfaction_level       -3.8244      0.087    -43.796      0.000      -3.996      -3.653\n",
      "promotion_last_5years    -1.5479      0.244     -6.342      0.000      -2.026      -1.070\n",
      "=========================================================================================\n"
     ]
    }
   ],
   "source": [
    "logit01 = smf.logit(\"left ~ satisfaction_level + promotion_last_5years\", data = df).fit()\n",
    "print(logit01.summary())"
   ]
  },
  {
   "cell_type": "markdown",
   "metadata": {},
   "source": [
    "Можем «в чистом виде» проинтерпретировать только значимость и знаки полученных коэффициентов. Все оценки коэффициентов (`coef`) статистически значимы, p-value примерно 0 (`P>|z|`). Судя по знакам коэффициентов, вероятность того, что человек уволится, ниже для тех людей, кто больше доволен работой (-3.82) и для тех людей, которые получили повышение за последние 5 лет (-1.55). Вполне логичная ситуация."
   ]
  },
  {
   "cell_type": "markdown",
   "metadata": {},
   "source": [
    "Можно было бы проинтерпретировать полученные результаты в терминах шансов и отношения шансов, но это не всегда интуитивно, поэтому давайте перейдем к предельным эффектам, чтобы получить удобную интерпретацию, аналогичную линейной регрессии."
   ]
  },
  {
   "cell_type": "markdown",
   "metadata": {},
   "source": [
    "Для начала вычислим предельный эффект независимых переменных для среднестатистического сотрудника (независимые переменные равны среднему по выборке):"
   ]
  },
  {
   "cell_type": "code",
   "execution_count": 4,
   "metadata": {},
   "outputs": [
    {
     "name": "stdout",
     "output_type": "stream",
     "text": [
      "        Logit Marginal Effects       \n",
      "=====================================\n",
      "Dep. Variable:                   left\n",
      "Method:                          dydx\n",
      "At:                              mean\n",
      "=========================================================================================\n",
      "                           dy/dx    std err          z      P>|z|      [0.025      0.975]\n",
      "-----------------------------------------------------------------------------------------\n",
      "satisfaction_level       -0.6118      0.013    -46.045      0.000      -0.638      -0.586\n",
      "promotion_last_5years    -0.2476      0.039     -6.402      0.000      -0.323      -0.172\n",
      "=========================================================================================\n"
     ]
    }
   ],
   "source": [
    "marg_effect_mean = logit01.get_margeff(method = \"dydx\", at = \"mean\")\n",
    "print(marg_effect_mean.summary())"
   ]
  },
  {
   "cell_type": "markdown",
   "metadata": {},
   "source": [
    "Значимость у эффектов будет такой же, как и в выдаче ранее.\n",
    "    \n",
    "* При прочих равных условиях (ceteris paribus – для ценителей), вероятность уволиться, в среднем, ниже на 0.61 у тех людей, у которых степень удовлетворенности работой выше на 1.\n",
    "* При прочих равных условиях, вероятность уволиться, в среднем, ниже на 0.24 у тех людей, которые получили повышение за последние 5 лет работы.\n",
    "\n",
    "Важно: эти выводы имеют место только для среднестатистического сотрудника! Выясним, для какого:"
   ]
  },
  {
   "cell_type": "code",
   "execution_count": 5,
   "metadata": {},
   "outputs": [
    {
     "data": {
      "text/plain": [
       "satisfaction_level         0.612834\n",
       "last_evaluation            0.716102\n",
       "number_project             3.803054\n",
       "average_montly_hours     201.050337\n",
       "time_spend_company         3.498233\n",
       "Work_accident              0.144610\n",
       "left                       0.238083\n",
       "promotion_last_5years      0.021268\n",
       "dtype: float64"
      ]
     },
     "execution_count": 5,
     "metadata": {},
     "output_type": "execute_result"
    }
   ],
   "source": [
    "df.mean()"
   ]
  },
  {
   "cell_type": "markdown",
   "metadata": {},
   "source": [
    "Для сотрудника со степенью удовлетворенности работой 0.61 и не получавшего повышение последние за последние 5 лет (среднее для `promotion_last_5years` несильно интерпретируемо, в этом проблема среднего, но оно явно ближе к 0, чем к 1)."
   ]
  },
  {
   "cell_type": "markdown",
   "metadata": {},
   "source": [
    "Аналогичным образом можем вычислить предельные эффекты независимых переменных для медианного сотрудника:"
   ]
  },
  {
   "cell_type": "code",
   "execution_count": 7,
   "metadata": {},
   "outputs": [
    {
     "name": "stdout",
     "output_type": "stream",
     "text": [
      "        Logit Marginal Effects       \n",
      "=====================================\n",
      "Dep. Variable:                   left\n",
      "Method:                          dydx\n",
      "At:                            median\n",
      "=========================================================================================\n",
      "                           dy/dx    std err          z      P>|z|      [0.025      0.975]\n",
      "-----------------------------------------------------------------------------------------\n",
      "satisfaction_level       -0.5859      0.012    -48.488      0.000      -0.610      -0.562\n",
      "promotion_last_5years    -0.2371      0.038     -6.272      0.000      -0.311      -0.163\n",
      "=========================================================================================\n"
     ]
    }
   ],
   "source": [
    "marg_effect_median = logit01.get_margeff(method = \"dydx\", at = \"median\")\n",
    "print(marg_effect_median.summary())"
   ]
  },
  {
   "cell_type": "markdown",
   "metadata": {},
   "source": [
    "Но самый лучший способ – не вычислять эффекты для среднего или медианного сотрудника, а вычислить средний предельный эффект. Логика вычисления простая: посчитаем предельные эффекты независимых переменных для каждого человека в выборке, а потом результаты усредним. "
   ]
  },
  {
   "cell_type": "code",
   "execution_count": 8,
   "metadata": {},
   "outputs": [
    {
     "name": "stdout",
     "output_type": "stream",
     "text": [
      "        Logit Marginal Effects       \n",
      "=====================================\n",
      "Dep. Variable:                   left\n",
      "Method:                          dydx\n",
      "At:                           overall\n",
      "=========================================================================================\n",
      "                           dy/dx    std err          z      P>|z|      [0.025      0.975]\n",
      "-----------------------------------------------------------------------------------------\n",
      "satisfaction_level       -0.5822      0.010    -56.618      0.000      -0.602      -0.562\n",
      "promotion_last_5years    -0.2356      0.037     -6.358      0.000      -0.308      -0.163\n",
      "=========================================================================================\n"
     ]
    }
   ],
   "source": [
    "ave_marg_effect = logit01.get_margeff(method = \"dydx\", at = \"overall\")\n",
    "print(ave_marg_effect.summary())"
   ]
  },
  {
   "cell_type": "markdown",
   "metadata": {},
   "source": [
    "Интерпретация аналогична той, что выше, только здесь мы говорим о среднем эффекте для всех наблюдений – сотрудников."
   ]
  },
  {
   "cell_type": "markdown",
   "metadata": {},
   "source": [
    "### Классификация с помощью логистической регрессии"
   ]
  },
  {
   "cell_type": "markdown",
   "metadata": {},
   "source": [
    "Раз логистическая регрессия позволяет предсказывать вероятности того, что зависимая переменная примет значение 1, эти предсказанные вероятности можно вычислить для каждого наблюдения в данных:"
   ]
  },
  {
   "cell_type": "code",
   "execution_count": 9,
   "metadata": {},
   "outputs": [
    {
     "data": {
      "text/plain": [
       "array([0.38625298, 0.11211161, 0.63864917, ..., 0.39535773, 0.63864917,\n",
       "       0.39535773])"
      ]
     },
     "execution_count": 9,
     "metadata": {},
     "output_type": "execute_result"
    }
   ],
   "source": [
    "# вероятности того, что человек уволится, \n",
    "# для каждого сотрудника в выборке\n",
    "\n",
    "logit01.predict()"
   ]
  },
  {
   "cell_type": "markdown",
   "metadata": {},
   "source": [
    "Сохраним их в отдельный столбец датафрейма:"
   ]
  },
  {
   "cell_type": "code",
   "execution_count": 10,
   "metadata": {},
   "outputs": [
    {
     "data": {
      "text/html": [
       "<div>\n",
       "<style scoped>\n",
       "    .dataframe tbody tr th:only-of-type {\n",
       "        vertical-align: middle;\n",
       "    }\n",
       "\n",
       "    .dataframe tbody tr th {\n",
       "        vertical-align: top;\n",
       "    }\n",
       "\n",
       "    .dataframe thead th {\n",
       "        text-align: right;\n",
       "    }\n",
       "</style>\n",
       "<table border=\"1\" class=\"dataframe\">\n",
       "  <thead>\n",
       "    <tr style=\"text-align: right;\">\n",
       "      <th></th>\n",
       "      <th>satisfaction_level</th>\n",
       "      <th>last_evaluation</th>\n",
       "      <th>number_project</th>\n",
       "      <th>average_montly_hours</th>\n",
       "      <th>time_spend_company</th>\n",
       "      <th>Work_accident</th>\n",
       "      <th>left</th>\n",
       "      <th>promotion_last_5years</th>\n",
       "      <th>Department</th>\n",
       "      <th>salary</th>\n",
       "      <th>prob</th>\n",
       "    </tr>\n",
       "  </thead>\n",
       "  <tbody>\n",
       "    <tr>\n",
       "      <td>0</td>\n",
       "      <td>0.38</td>\n",
       "      <td>0.53</td>\n",
       "      <td>2</td>\n",
       "      <td>157</td>\n",
       "      <td>3</td>\n",
       "      <td>0</td>\n",
       "      <td>1</td>\n",
       "      <td>0</td>\n",
       "      <td>sales</td>\n",
       "      <td>low</td>\n",
       "      <td>0.386253</td>\n",
       "    </tr>\n",
       "    <tr>\n",
       "      <td>1</td>\n",
       "      <td>0.80</td>\n",
       "      <td>0.86</td>\n",
       "      <td>5</td>\n",
       "      <td>262</td>\n",
       "      <td>6</td>\n",
       "      <td>0</td>\n",
       "      <td>1</td>\n",
       "      <td>0</td>\n",
       "      <td>sales</td>\n",
       "      <td>medium</td>\n",
       "      <td>0.112112</td>\n",
       "    </tr>\n",
       "    <tr>\n",
       "      <td>2</td>\n",
       "      <td>0.11</td>\n",
       "      <td>0.88</td>\n",
       "      <td>7</td>\n",
       "      <td>272</td>\n",
       "      <td>4</td>\n",
       "      <td>0</td>\n",
       "      <td>1</td>\n",
       "      <td>0</td>\n",
       "      <td>sales</td>\n",
       "      <td>medium</td>\n",
       "      <td>0.638649</td>\n",
       "    </tr>\n",
       "    <tr>\n",
       "      <td>3</td>\n",
       "      <td>0.72</td>\n",
       "      <td>0.87</td>\n",
       "      <td>5</td>\n",
       "      <td>223</td>\n",
       "      <td>5</td>\n",
       "      <td>0</td>\n",
       "      <td>1</td>\n",
       "      <td>0</td>\n",
       "      <td>sales</td>\n",
       "      <td>low</td>\n",
       "      <td>0.146365</td>\n",
       "    </tr>\n",
       "    <tr>\n",
       "      <td>4</td>\n",
       "      <td>0.37</td>\n",
       "      <td>0.52</td>\n",
       "      <td>2</td>\n",
       "      <td>159</td>\n",
       "      <td>3</td>\n",
       "      <td>0</td>\n",
       "      <td>1</td>\n",
       "      <td>0</td>\n",
       "      <td>sales</td>\n",
       "      <td>low</td>\n",
       "      <td>0.395358</td>\n",
       "    </tr>\n",
       "  </tbody>\n",
       "</table>\n",
       "</div>"
      ],
      "text/plain": [
       "   satisfaction_level  last_evaluation  number_project  average_montly_hours  \\\n",
       "0                0.38             0.53               2                   157   \n",
       "1                0.80             0.86               5                   262   \n",
       "2                0.11             0.88               7                   272   \n",
       "3                0.72             0.87               5                   223   \n",
       "4                0.37             0.52               2                   159   \n",
       "\n",
       "   time_spend_company  Work_accident  left  promotion_last_5years Department  \\\n",
       "0                   3              0     1                      0      sales   \n",
       "1                   6              0     1                      0      sales   \n",
       "2                   4              0     1                      0      sales   \n",
       "3                   5              0     1                      0      sales   \n",
       "4                   3              0     1                      0      sales   \n",
       "\n",
       "   salary      prob  \n",
       "0     low  0.386253  \n",
       "1  medium  0.112112  \n",
       "2  medium  0.638649  \n",
       "3     low  0.146365  \n",
       "4     low  0.395358  "
      ]
     },
     "execution_count": 10,
     "metadata": {},
     "output_type": "execute_result"
    }
   ],
   "source": [
    "df[\"prob\"] = logit01.predict()\n",
    "df.head()"
   ]
  },
  {
   "cell_type": "markdown",
   "metadata": {},
   "source": [
    "Если мы хотим решать задачу классификации и определять, относить человека к группе тех, кто уволится, или тех, кто не уволится, нам нужно определиться, какое значение предсказанной вероятности будет считаться достаточным, чтобы отнести человека в первую группу. Если нет каких-то содержательных соображений, обычно берут пороговое значение 0.5. Поступим так же и посмотрим, что получится в случае наших данных:"
   ]
  },
  {
   "cell_type": "code",
   "execution_count": 11,
   "metadata": {},
   "outputs": [
    {
     "data": {
      "text/html": [
       "<div>\n",
       "<style scoped>\n",
       "    .dataframe tbody tr th:only-of-type {\n",
       "        vertical-align: middle;\n",
       "    }\n",
       "\n",
       "    .dataframe tbody tr th {\n",
       "        vertical-align: top;\n",
       "    }\n",
       "\n",
       "    .dataframe thead th {\n",
       "        text-align: right;\n",
       "    }\n",
       "</style>\n",
       "<table border=\"1\" class=\"dataframe\">\n",
       "  <thead>\n",
       "    <tr style=\"text-align: right;\">\n",
       "      <th></th>\n",
       "      <th>satisfaction_level</th>\n",
       "      <th>last_evaluation</th>\n",
       "      <th>number_project</th>\n",
       "      <th>average_montly_hours</th>\n",
       "      <th>time_spend_company</th>\n",
       "      <th>Work_accident</th>\n",
       "      <th>left</th>\n",
       "      <th>promotion_last_5years</th>\n",
       "      <th>Department</th>\n",
       "      <th>salary</th>\n",
       "      <th>prob</th>\n",
       "      <th>model</th>\n",
       "    </tr>\n",
       "  </thead>\n",
       "  <tbody>\n",
       "    <tr>\n",
       "      <td>0</td>\n",
       "      <td>0.38</td>\n",
       "      <td>0.53</td>\n",
       "      <td>2</td>\n",
       "      <td>157</td>\n",
       "      <td>3</td>\n",
       "      <td>0</td>\n",
       "      <td>1</td>\n",
       "      <td>0</td>\n",
       "      <td>sales</td>\n",
       "      <td>low</td>\n",
       "      <td>0.386253</td>\n",
       "      <td>0</td>\n",
       "    </tr>\n",
       "    <tr>\n",
       "      <td>1</td>\n",
       "      <td>0.80</td>\n",
       "      <td>0.86</td>\n",
       "      <td>5</td>\n",
       "      <td>262</td>\n",
       "      <td>6</td>\n",
       "      <td>0</td>\n",
       "      <td>1</td>\n",
       "      <td>0</td>\n",
       "      <td>sales</td>\n",
       "      <td>medium</td>\n",
       "      <td>0.112112</td>\n",
       "      <td>0</td>\n",
       "    </tr>\n",
       "    <tr>\n",
       "      <td>2</td>\n",
       "      <td>0.11</td>\n",
       "      <td>0.88</td>\n",
       "      <td>7</td>\n",
       "      <td>272</td>\n",
       "      <td>4</td>\n",
       "      <td>0</td>\n",
       "      <td>1</td>\n",
       "      <td>0</td>\n",
       "      <td>sales</td>\n",
       "      <td>medium</td>\n",
       "      <td>0.638649</td>\n",
       "      <td>1</td>\n",
       "    </tr>\n",
       "    <tr>\n",
       "      <td>3</td>\n",
       "      <td>0.72</td>\n",
       "      <td>0.87</td>\n",
       "      <td>5</td>\n",
       "      <td>223</td>\n",
       "      <td>5</td>\n",
       "      <td>0</td>\n",
       "      <td>1</td>\n",
       "      <td>0</td>\n",
       "      <td>sales</td>\n",
       "      <td>low</td>\n",
       "      <td>0.146365</td>\n",
       "      <td>0</td>\n",
       "    </tr>\n",
       "    <tr>\n",
       "      <td>4</td>\n",
       "      <td>0.37</td>\n",
       "      <td>0.52</td>\n",
       "      <td>2</td>\n",
       "      <td>159</td>\n",
       "      <td>3</td>\n",
       "      <td>0</td>\n",
       "      <td>1</td>\n",
       "      <td>0</td>\n",
       "      <td>sales</td>\n",
       "      <td>low</td>\n",
       "      <td>0.395358</td>\n",
       "      <td>0</td>\n",
       "    </tr>\n",
       "  </tbody>\n",
       "</table>\n",
       "</div>"
      ],
      "text/plain": [
       "   satisfaction_level  last_evaluation  number_project  average_montly_hours  \\\n",
       "0                0.38             0.53               2                   157   \n",
       "1                0.80             0.86               5                   262   \n",
       "2                0.11             0.88               7                   272   \n",
       "3                0.72             0.87               5                   223   \n",
       "4                0.37             0.52               2                   159   \n",
       "\n",
       "   time_spend_company  Work_accident  left  promotion_last_5years Department  \\\n",
       "0                   3              0     1                      0      sales   \n",
       "1                   6              0     1                      0      sales   \n",
       "2                   4              0     1                      0      sales   \n",
       "3                   5              0     1                      0      sales   \n",
       "4                   3              0     1                      0      sales   \n",
       "\n",
       "   salary      prob  model  \n",
       "0     low  0.386253      0  \n",
       "1  medium  0.112112      0  \n",
       "2  medium  0.638649      1  \n",
       "3     low  0.146365      0  \n",
       "4     low  0.395358      0  "
      ]
     },
     "execution_count": 11,
     "metadata": {},
     "output_type": "execute_result"
    }
   ],
   "source": [
    "df[\"model\"] = (df[\"prob\"] > 0.5).astype(int)\n",
    "df.head()"
   ]
  },
  {
   "cell_type": "markdown",
   "metadata": {},
   "source": [
    "Итак, в столбце `left` реальные значения – увольнялись ли сотрудники или нет, а в столбце `model` – предсказанные значения, считаем ли мы на основе построенной модели и выбранного порога, что человек увольнялся, или нет. \n",
    "\n",
    "Можем оценить качество нашей классификации – насколько мы ошибаемся в предсказании 0 и 1. Построим *confusion matrix* или попросту таблицу сопряженности для реальных и предсказанных значений:"
   ]
  },
  {
   "cell_type": "code",
   "execution_count": 12,
   "metadata": {},
   "outputs": [
    {
     "data": {
      "text/html": [
       "<div>\n",
       "<style scoped>\n",
       "    .dataframe tbody tr th:only-of-type {\n",
       "        vertical-align: middle;\n",
       "    }\n",
       "\n",
       "    .dataframe tbody tr th {\n",
       "        vertical-align: top;\n",
       "    }\n",
       "\n",
       "    .dataframe thead th {\n",
       "        text-align: right;\n",
       "    }\n",
       "</style>\n",
       "<table border=\"1\" class=\"dataframe\">\n",
       "  <thead>\n",
       "    <tr style=\"text-align: right;\">\n",
       "      <th>model</th>\n",
       "      <th>0</th>\n",
       "      <th>1</th>\n",
       "    </tr>\n",
       "    <tr>\n",
       "      <th>left</th>\n",
       "      <th></th>\n",
       "      <th></th>\n",
       "    </tr>\n",
       "  </thead>\n",
       "  <tbody>\n",
       "    <tr>\n",
       "      <td>0</td>\n",
       "      <td>10607</td>\n",
       "      <td>821</td>\n",
       "    </tr>\n",
       "    <tr>\n",
       "      <td>1</td>\n",
       "      <td>2640</td>\n",
       "      <td>931</td>\n",
       "    </tr>\n",
       "  </tbody>\n",
       "</table>\n",
       "</div>"
      ],
      "text/plain": [
       "model      0    1\n",
       "left             \n",
       "0      10607  821\n",
       "1       2640  931"
      ]
     },
     "execution_count": 12,
     "metadata": {},
     "output_type": "execute_result"
    }
   ],
   "source": [
    "# по строкам – реальные значения\n",
    "# по столбцам – предсказанные моделью\n",
    "\n",
    "tab = pd.crosstab(df[\"left\"], df[\"model\"])\n",
    "tab"
   ]
  },
  {
   "cell_type": "markdown",
   "metadata": {},
   "source": [
    "Посчитаем на основе этой таблицы чувствительность и специфичность модели:"
   ]
  },
  {
   "cell_type": "code",
   "execution_count": 14,
   "metadata": {},
   "outputs": [],
   "source": [
    "TN = tab.iloc[0, 0]  # true negative\n",
    "TP = tab.iloc[1, 1]  # true positive\n",
    "FN = tab.iloc[1, 0]  # false nagative\n",
    "FP = tab.iloc[0, 1]  # false positive"
   ]
  },
  {
   "cell_type": "code",
   "execution_count": 15,
   "metadata": {},
   "outputs": [
    {
     "name": "stdout",
     "output_type": "stream",
     "text": [
      "0.2607112853542425 0.9281589079453972\n"
     ]
    }
   ],
   "source": [
    "sensitivity = TP / (TP + FN)  # true positive rate\n",
    "specificity = TN / (TN + FP)  # true negative rate\n",
    "print(sensitivity, specificity)"
   ]
  },
  {
   "cell_type": "markdown",
   "metadata": {},
   "source": [
    "Чувствительность модели при выбранном пороговом значениии 0.5 не очень хорошая, что неудивительно – в выборке явный «перекос» в сторону нулей:"
   ]
  },
  {
   "cell_type": "code",
   "execution_count": 16,
   "metadata": {},
   "outputs": [
    {
     "data": {
      "text/plain": [
       "0    11428\n",
       "1     3571\n",
       "Name: left, dtype: int64"
      ]
     },
     "execution_count": 16,
     "metadata": {},
     "output_type": "execute_result"
    }
   ],
   "source": [
    "df[\"left\"].value_counts()"
   ]
  },
  {
   "cell_type": "markdown",
   "metadata": {},
   "source": [
    "Видимо, пороговое значение нужно брать не 0.5, а пониже, исходя из того, что соотношение 0 и 1 в выборке далеко не 50 на 50, нулей в 3 раза больше. Но мы сейчас заниматься этим не будем, это небольшое отступление про классификацию нам понадобилось для того, чтобы мы могли более осмысленно построить графики для оценки предсказательной силы модели."
   ]
  },
  {
   "cell_type": "markdown",
   "metadata": {},
   "source": [
    "### Предсказательная сила модели: ROC кривая и AUC"
   ]
  },
  {
   "cell_type": "markdown",
   "metadata": {},
   "source": [
    "Для построения ROC кривой и вычисления площади под ней (AUC, *area under curve*), нам понадобятся соответствующие функции из модуля `metrics` библиотеки `sklearn`:"
   ]
  },
  {
   "cell_type": "code",
   "execution_count": 17,
   "metadata": {},
   "outputs": [],
   "source": [
    "from sklearn.metrics import roc_curve, roc_auc_score"
   ]
  },
  {
   "cell_type": "markdown",
   "metadata": {},
   "source": [
    "Функция `roc_curve()` вычисляет *false positive rate* и *true positive rate* для разных пороговых значений, которые мы можем выбрать для дальнейшей классификации (ранее в примере мы выбрали 0.5, а теоретически могли взять любое значение от 0 до 1)."
   ]
  },
  {
   "cell_type": "code",
   "execution_count": 18,
   "metadata": {},
   "outputs": [],
   "source": [
    "fpr, tpr, thresholds = roc_curve(df[\"left\"], df[\"prob\"])"
   ]
  },
  {
   "cell_type": "code",
   "execution_count": 20,
   "metadata": {},
   "outputs": [
    {
     "data": {
      "text/plain": [
       "array([1.65610729, 0.65610729, 0.64742744, 0.63864917, 0.62977733,\n",
       "       0.62081699, 0.61177347, 0.60265231, 0.59345927, 0.58420027])"
      ]
     },
     "execution_count": 20,
     "metadata": {},
     "output_type": "execute_result"
    }
   ],
   "source": [
    "thresholds[0:10] # 10 пороговых значений, первое даже больше 1, но это нестрашно"
   ]
  },
  {
   "cell_type": "code",
   "execution_count": 21,
   "metadata": {},
   "outputs": [
    {
     "data": {
      "text/plain": [
       "array([0.        , 0.        , 0.        , 0.        , 0.00227511,\n",
       "       0.00673784, 0.01225061, 0.01828841, 0.02450123, 0.03036402])"
      ]
     },
     "execution_count": 21,
     "metadata": {},
     "output_type": "execute_result"
    }
   ],
   "source": [
    "fpr[0:10]  # false positive rate для каждого из 10 пороговых значений выше"
   ]
  },
  {
   "cell_type": "code",
   "execution_count": 22,
   "metadata": {},
   "outputs": [
    {
     "data": {
      "text/plain": [
       "array([0.        , 0.05460655, 0.15485858, 0.24782974, 0.24894987,\n",
       "       0.24978997, 0.25259031, 0.25343041, 0.25371045, 0.25511061])"
      ]
     },
     "execution_count": 22,
     "metadata": {},
     "output_type": "execute_result"
    }
   ],
   "source": [
    "tpr[0:10]  # true positive rate для каждого из 10 пороговых значений выше"
   ]
  },
  {
   "cell_type": "markdown",
   "metadata": {},
   "source": [
    "Заодно вычислим сводную меру качества модели – площадь под ROC кривой, AUC:"
   ]
  },
  {
   "cell_type": "code",
   "execution_count": 23,
   "metadata": {},
   "outputs": [
    {
     "data": {
      "text/plain": [
       "0.7510613489229488"
      ]
     },
     "execution_count": 23,
     "metadata": {},
     "output_type": "execute_result"
    }
   ],
   "source": [
    "auc = roc_auc_score(df[\"left\"], df[\"prob\"])\n",
    "auc  # довольно хорошее качество!"
   ]
  },
  {
   "cell_type": "markdown",
   "metadata": {},
   "source": [
    "Импортируем модуль `pyplot` из `matplotlib` и нанесем полученные выше значения на график – построим ROC кривую."
   ]
  },
  {
   "cell_type": "code",
   "execution_count": 24,
   "metadata": {},
   "outputs": [],
   "source": [
    "from matplotlib import pyplot as plt"
   ]
  },
  {
   "cell_type": "code",
   "execution_count": 26,
   "metadata": {},
   "outputs": [
    {
     "data": {
      "image/png": "[encoded data removed]",
      "text/plain": [
       "<Figure size 432x288 with 1 Axes>"
      ]
     },
     "metadata": {
      "needs_background": "light"
     },
     "output_type": "display_data"
    }
   ],
   "source": [
    "plt.figure()\n",
    "\n",
    "# добавляем точки, соединенные линией, \n",
    "# по оси x идет fpr, по оси y идет tpr\n",
    "# label нужен для того, чтобы отразить в легенде графика AUC,\n",
    "# AUC окргулен до 3 знаков через форматирование %.3f\n",
    "\n",
    "\n",
    "plt.plot(fpr, tpr, label = 'AUC = %.3f' % auc)\n",
    "\n",
    "# добавляем диагональную линию, она идет из точки (0, 0) в точку (1, 1), \n",
    "# это задается в виде списков [0, 1] и [0, 1]\n",
    "# первые элементы – координаты точек по x, вторые – по y\n",
    "# линия красная (r от red) и пунктирная\n",
    "\n",
    "plt.plot([0, 1], [0, 1],'r--')\n",
    "\n",
    "# добавляем подписи по осям, заголовок и легенду\n",
    "\n",
    "plt.xlabel('False Positive Rate')\n",
    "plt.ylabel('True Positive Rate')\n",
    "plt.title('ROC curve')\n",
    "plt.legend(loc = \"lower right\")\n",
    "plt.show()"
   ]
  },
  {
   "cell_type": "markdown",
   "metadata": {},
   "source": [
    "Если мы хотим сравнить качество двух и более моделей на основе ROC и AUC, можно нанести сразу несколько кривых на график. Предположим, что у нас есть новая модель, которая включает в себя гораздо больше факторов:"
   ]
  },
  {
   "cell_type": "code",
   "execution_count": 28,
   "metadata": {},
   "outputs": [
    {
     "name": "stdout",
     "output_type": "stream",
     "text": [
      "Optimization terminated successfully.\n",
      "         Current function value: 0.453254\n",
      "         Iterations 7\n"
     ]
    }
   ],
   "source": [
    "logit02 = smf.logit(\"left ~ satisfaction_level + number_project + promotion_last_5years + salary + average_montly_hours\", \n",
    "                    data = df).fit()"
   ]
  },
  {
   "cell_type": "markdown",
   "metadata": {},
   "source": [
    "Добавим в датафрейм новые предсказанные вероятности, уже согласно этой модели, а затем посчитаем для нее все характеристики, которые мы определяли для предыдущей модели:"
   ]
  },
  {
   "cell_type": "code",
   "execution_count": 30,
   "metadata": {},
   "outputs": [],
   "source": [
    "df[\"prob2\"] = logit02.predict()\n",
    "fpr2, tpr2, thresholds2 = roc_curve(df[\"left\"], df[\"prob2\"])\n",
    "auc2 = roc_auc_score(df[\"left\"], df[\"prob2\"])"
   ]
  },
  {
   "cell_type": "markdown",
   "metadata": {},
   "source": [
    "Осталось построить ROC кривую и добавить ее на предыдущий график. Код тот же, добавится только еще одна строка с `plot()`:"
   ]
  },
  {
   "cell_type": "code",
   "execution_count": 31,
   "metadata": {},
   "outputs": [
    {
     "data": {
      "image/png": "[encoded data removed]",
      "text/plain": [
       "<Figure size 432x288 with 1 Axes>"
      ]
     },
     "metadata": {
      "needs_background": "light"
     },
     "output_type": "display_data"
    }
   ],
   "source": [
    "plt.figure()\n",
    "\n",
    "# теперь две модели – две кривые, \n",
    "# Python сам сделаем их разного цвета\n",
    "\n",
    "plt.plot(fpr, tpr, label = 'AUC = %.3f' % auc)\n",
    "plt.plot(fpr2, tpr2, label = 'AUC = %.3f' % auc2)\n",
    "\n",
    "plt.plot([0, 1], [0, 1],'r--')\n",
    "\n",
    "# добавляем подписи по осям, заголовок и легенду\n",
    "\n",
    "plt.xlabel('False Positive Rate')\n",
    "plt.ylabel('True Positive Rate')\n",
    "plt.title('ROC curve')\n",
    "plt.legend(loc = \"lower right\")\n",
    "plt.show()"
   ]
  },
  {
   "cell_type": "markdown",
   "metadata": {},
   "source": [
    "Ура! Видим, что вторая модель чисто по качеству получилась получше, предсказательная сила у нее выше."
   ]
  }
 ],
 "metadata": {
  "kernelspec": {
   "display_name": "Python 3",
   "language": "python",
   "name": "python3"
  },
  "language_info": {
   "codemirror_mode": {
    "name": "ipython",
    "version": 3
   },
   "file_extension": ".py",
   "mimetype": "text/x-python",
   "name": "python",
   "nbconvert_exporter": "python",
   "pygments_lexer": "ipython3",
   "version": "3.7.4"
  }
 },
 "nbformat": 4,
 "nbformat_minor": 2
}
